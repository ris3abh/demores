{
 "cells": [
  {
   "cell_type": "code",
   "execution_count": 2,
   "metadata": {},
   "outputs": [
    {
     "name": "stdout",
     "output_type": "stream",
     "text": [
      "Collecting PyPDF2\n",
      "  Using cached pypdf2-3.0.1-py3-none-any.whl (232 kB)\n",
      "Installing collected packages: PyPDF2\n",
      "Successfully installed PyPDF2-3.0.1\n"
     ]
    }
   ],
   "source": [
    "!pip install PyPDF2"
   ]
  },
  {
   "cell_type": "code",
   "execution_count": 7,
   "metadata": {},
   "outputs": [],
   "source": [
    "import PyPDF2\n",
    "\n",
    "def read_pdf(file_path):\n",
    "    with open(file_path, 'rb') as file:\n",
    "        reader = PyPDF2.PdfReader(file)\n",
    "        text = ''\n",
    "        for page_num in range(len(reader.pages)):\n",
    "            page = reader.pages[page_num]\n",
    "            text += page.extract_text()\n",
    "        return text\n",
    "    \n",
    "pdf_file = 'data/Resumes/0ecaf8f504204421b4a059d1c50d2895_resume.pdf'\n",
    "text = read_pdf(pdf_file)"
   ]
  },
  {
   "cell_type": "code",
   "execution_count": 11,
   "metadata": {},
   "outputs": [],
   "source": [
    "job_description = \"\"\"Responsibilities\n",
    "Help determine which methods are appropriate to explore, mine, analyze, and manipulate massive data sets.\n",
    "Develop and analyze modeling techniques using creativity, mathematics, machine learning, and statistical methods.\n",
    "Create user-friendly reports using databases, analyses, programs, and scripts.\n",
    "Ensure connectivity between databases and systems by working with other teams.\n",
    "Collaborate with stakeholders to develop solutions to analytical problems.\n",
    "Communicate results in a creative and understandable manner through storytelling.\n",
    "\n",
    "Skills\n",
    "check\n",
    "Represents the skills you have\n",
    "checkMachine Learning\n",
    "Deep Learning\n",
    "checkNLP\n",
    "Computer Vision\n",
    "checkPredictive Modeling\n",
    "checkStatistics\n",
    "Software Delivery\n",
    "checkData Visualization\n",
    "TS/SCI clearance\n",
    "Significant coursework or professional experience in machine learning, deep learning, NLP, computer vision, predictive modeling and forecasting, statistics, or similar analytic domain\n",
    "Experience delivering software or technical solutions to DOD or IC customers, USAF, JAIC, NRO, NGA, or other intelligence organizations strongly desired\n",
    "Familiarity with data visualization software, tools, and techniques is desired\"\"\""
   ]
  },
  {
   "cell_type": "code",
   "execution_count": null,
   "metadata": {},
   "outputs": [],
   "source": [
    "from scripts.powerExtract import ResumeJobMatchingSystem, analyze_job_fit_hard_skills, analyze_job_fit_soft_skills\n",
    "\n",
    "json_file_path = 'data/job_skills.json'\n",
    "csv_file_path = 'data/job_skills.csv'\n",
    "ss_json_file_path = 'data/soft_skills.json'\n",
    "matching_system = ResumeJobMatchingSystem(json_file_path, csv_file_path, ss_json_file_path)\n",
    "if matching_system.df is not None and matching_system.soft_skills_df is not None:\n",
    "    resume_keywords, job_keywords = analyze_job_fit_hard_skills(matching_system)\n",
    "    resume_soft_keywords, job_soft_keywords = analyze_job_fit_soft_skills(matching_system)"
   ]
  }
 ],
 "metadata": {
  "kernelspec": {
   "display_name": "base",
   "language": "python",
   "name": "python3"
  },
  "language_info": {
   "codemirror_mode": {
    "name": "ipython",
    "version": 3
   },
   "file_extension": ".py",
   "mimetype": "text/x-python",
   "name": "python",
   "nbconvert_exporter": "python",
   "pygments_lexer": "ipython3",
   "version": "3.10.9"
  }
 },
 "nbformat": 4,
 "nbformat_minor": 2
}
